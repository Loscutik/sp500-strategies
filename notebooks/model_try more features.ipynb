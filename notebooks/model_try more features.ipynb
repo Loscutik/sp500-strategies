{
 "cells": [
  {
   "cell_type": "markdown",
   "metadata": {},
   "source": [
    "# Import"
   ]
  },
  {
   "cell_type": "code",
   "execution_count": 1,
   "metadata": {},
   "outputs": [],
   "source": [
    "import math\n",
    "import os, sys\n",
    "from typing import Callable, Any, Iterable\n",
    "from IPython.display import  Markdown, display, display_html\n",
    "\n",
    "##os.getcwd()\n",
    "if \"../scripts/\" not in sys.path:  # to prevent multi adding  \n",
    "    sys.path.append(\"../scripts/\")\n",
    "     \n",
    "import pickle\n",
    "import pandas as pd\n",
    "import numpy as np\n",
    "import warnings\n",
    "import seaborn as sns\n",
    "import matplotlib.pyplot as plt\n",
    "from matplotlib.backends.backend_pdf import PdfPages\n",
    "\n",
    "from helpers import isnumber, flatten_list_of_dicts\n",
    "from input_output_plot.printing import output_formatting, display_df_side_by_side\n",
    "from consts import format, color, del_format, results_dir, pkl_dir"
   ]
  },
  {
   "cell_type": "markdown",
   "metadata": {},
   "source": [
    "# Load data sets"
   ]
  },
  {
   "cell_type": "code",
   "execution_count": 2,
   "metadata": {},
   "outputs": [],
   "source": [
    "#X_train_file_small = os.path.join(pkl_dir, 'x_train_features_small.pkl')\n",
    "X_train_file = os.path.join(pkl_dir, 'x_train_features.pkl')\n",
    "X_train_addition_file = os.path.join(pkl_dir, 'x_train_addition_features.pkl')\n",
    "y_train_file = os.path.join(pkl_dir, 'y_train_features.pkl')\n",
    "X_train_return_file = os.path.join(pkl_dir, 'x_train_return_features.pkl')\n",
    "x_train_capped_features_file = os.path.join(pkl_dir, 'x_train_capped_features.pkl')\n",
    "X_test_file = os.path.join(pkl_dir, 'x_test_features.pkl')\n",
    "X_test_addition_file = os.path.join(pkl_dir, 'x_test_addition_features.pkl')\n",
    "y_test_file = os.path.join(pkl_dir, 'y_test_features.pkl')\n",
    "X_test_return_file = os.path.join(pkl_dir, 'x_test_return_features.pkl')\n",
    "\n",
    "sp500_history_file = os.path.join(pkl_dir, 'sp500_history.pkl')"
   ]
  },
  {
   "cell_type": "code",
   "execution_count": 3,
   "metadata": {},
   "outputs": [
    {
     "name": "stdout",
     "output_type": "stream",
     "text": [
      "Load previously saved data from ../results/pickled\n"
     ]
    }
   ],
   "source": [
    "print(f'Load previously saved data from {pkl_dir}')\n",
    "with open(X_train_file, 'rb') as fx, open(X_train_addition_file, 'rb') as fxa, open(y_train_file, 'rb') as fy, open(X_train_return_file, 'rb') as fxt, open(x_train_capped_features_file, 'rb') as fxc:\n",
    "    X_train = pickle.load(fx)\n",
    "    X_train_addition = pickle.load(fxa)\n",
    "    y_train = pickle.load(fy)\n",
    "    X_train_return = pickle.load(fxt)\n",
    "    X_train_capped = pickle.load(fxc)\n",
    "\n",
    "with open(X_test_file, 'rb') as fx, open(X_test_addition_file, 'rb') as fxa, open(y_test_file, 'rb') as fy, open(X_test_return_file, 'rb') as fxt:\n",
    "    X_test = pickle.load(fx)\n",
    "    X_test_addition = pickle.load(fxa)\n",
    "    y_test = pickle.load(fy)\n",
    "    X_test_return = pickle.load(fxt)\n",
    "\n",
    "with open(sp500_history_file, 'rb') as f:\n",
    "    sp500_history = pickle.load(f)"
   ]
  },
  {
   "cell_type": "markdown",
   "metadata": {},
   "source": [
    "# Cross validation"
   ]
  },
  {
   "cell_type": "code",
   "execution_count": null,
   "metadata": {},
   "outputs": [],
   "source": [
    "from input_output_plot.plotting import plot_cv\n",
    "from model.selection import MultiTimeSeriesSplit"
   ]
  },
  {
   "cell_type": "markdown",
   "metadata": {},
   "source": [
    "## Determine folds sizes"
   ]
  },
  {
   "cell_type": "markdown",
   "metadata": {},
   "source": [
    "The task's requirement for cross-validation is \"the train set has to be bigger than 2 years history\". Let determine the number of days in the first 2 years of the train set."
   ]
  },
  {
   "cell_type": "code",
   "execution_count": 5,
   "metadata": {},
   "outputs": [
    {
     "name": "stdout",
     "output_type": "stream",
     "text": [
      "Number of companies in the train set: \u001b[1;36m498\u001b[0m\n",
      "Number of companies in the test set: \u001b[1;36m505\u001b[0m\n"
     ]
    }
   ],
   "source": [
    "statistic = {}\n",
    "statistic['n_companies_train'] = len(X_train['Name'].unique())\n",
    "statistic['n_companies_test'] = len(X_test['Name'].unique())\n",
    "print(f'Number of companies in the train set: {output_formatting(statistic['n_companies_train'], format)}')\n",
    "print(f'Number of companies in the test set: {output_formatting(statistic['n_companies_test'], format)}')"
   ]
  },
  {
   "cell_type": "code",
   "execution_count": 6,
   "metadata": {},
   "outputs": [
    {
     "name": "stdout",
     "output_type": "stream",
     "text": [
      "Days in the the train set: \u001b[1;36m955\u001b[0m\n",
      "Days in the first 2 years of the train set: \u001b[1;36m504\u001b[0m\n",
      "Days in the test set: \u001b[1;36m275\u001b[0m\n"
     ]
    }
   ],
   "source": [
    "X_train_dates= X_train.index.unique()\n",
    "statistic['X_train_dates'] = len(X_train_dates)\n",
    "print(f'Days in the the train set: {output_formatting(statistic['X_train_dates'], format)}')\n",
    "days_in_2years_history = len(X_train_dates[(X_train_dates>=X_train_dates.min()) & (X_train_dates<X_train_dates.min()+pd.DateOffset(years=2))])\n",
    "statistic['days_in_2years_history'] = days_in_2years_history\n",
    "print(f'Days in the first 2 years of the train set: {output_formatting(statistic['days_in_2years_history'] , format)}')\n",
    "statistic['X_test_dates'] = len(X_test.index.get_level_values('date').unique())\n",
    "print(f'Days in the test set: {output_formatting(statistic['X_test_dates'], format)}')"
   ]
  },
  {
   "cell_type": "markdown",
   "metadata": {},
   "source": [
    "Let's take `validation_set_size`=25 and `n_splits`=11. It will cover the whole X_test: 11*25=275 "
   ]
  },
  {
   "cell_type": "code",
   "execution_count": 7,
   "metadata": {},
   "outputs": [],
   "source": [
    "validation_set_size=25\n",
    "n_splits=11"
   ]
  },
  {
   "cell_type": "code",
   "execution_count": 8,
   "metadata": {},
   "outputs": [
    {
     "name": "stdout",
     "output_type": "stream",
     "text": [
      "Maximum size of the train fold in the first split: \u001b[1;36m680\u001b[0m\n"
     ]
    }
   ],
   "source": [
    "# determine the maximum length of the train fold in the first split which let have validation folds to cover the given test set \n",
    "max_train_size = statistic['X_train_dates'] - statistic['X_test_dates']\n",
    "statistic['max_train_size'] = max_train_size\n",
    "print(f'Maximum size of the train fold in the first split: {output_formatting(max_train_size, format)}')"
   ]
  },
  {
   "cell_type": "code",
   "execution_count": 9,
   "metadata": {},
   "outputs": [],
   "source": [
    "def is_train_test_folds_have_common_dates(cv, X):\n",
    "    for tr, tt in cv.split(X=X):\n",
    "        tr_dates = X.iloc[tr].index.unique()\n",
    "        tt_dates = X.iloc[tt].index.unique()\n",
    "        if tr_dates.intersection(tt_dates).size>0:\n",
    "            return True\n",
    "    return False"
   ]
  },
  {
   "cell_type": "markdown",
   "metadata": {},
   "source": [
    "## TimeSeries Split"
   ]
  },
  {
   "cell_type": "code",
   "execution_count": 10,
   "metadata": {},
   "outputs": [
    {
     "data": {
      "image/png": "[encoded data removed]",
      "text/plain": [
       "<Figure size 640x480 with 1 Axes>"
      ]
     },
     "metadata": {},
     "output_type": "display_data"
    }
   ],
   "source": [
    "# create a cross-validation object with minimal train set equal 2 years of stock's history + 10 days of stock's history\n",
    "tscv = MultiTimeSeriesSplit(n_splits=n_splits, \n",
    "                            min_train_size=days_in_2years_history+10, \n",
    "                            max_train_size=None, \n",
    "                            #test_size=validation_set_size, \n",
    "                            gap=0)\n",
    "fig = plot_cv(tscv, 'TimeSeriesSplit', X_train, y_train, scale_x=5000)\n",
    "display(fig)"
   ]
  },
  {
   "cell_type": "markdown",
   "metadata": {},
   "source": [
    "This time series split is built with minimum length of train fold according with task requipment (2 years history). Let's get some statistic on it:"
   ]
  },
  {
   "cell_type": "code",
   "execution_count": 11,
   "metadata": {},
   "outputs": [
    {
     "name": "stdout",
     "output_type": "stream",
     "text": [
      "Length of test (number of days) set in the cross validation showed above: \u001b[1;36m40\u001b[0m\n"
     ]
    }
   ],
   "source": [
    "statistic['max_days_in_validation_set'] = tscv.get_test_size()\n",
    "print(f'Length of test (number of days) set in the cross validation showed above: {output_formatting(statistic['max_days_in_validation_set'], format)}')"
   ]
  },
  {
   "cell_type": "code",
   "execution_count": 12,
   "metadata": {},
   "outputs": [
    {
     "name": "stdout",
     "output_type": "stream",
     "text": [
      "Length of minimum train fold: \u001b[1;36m248898\u001b[0m\n"
     ]
    }
   ],
   "source": [
    "time_series_split_min_train_set = len(X_train)\n",
    "for train_idxs, _ in tscv.split(X_train):\n",
    "    time_series_split_min_train_set = min(len(X_train.iloc[train_idxs]), time_series_split_min_train_set)\n",
    "statistic['samples_in_min_train_set'] = time_series_split_min_train_set\n",
    "print(f'Length of minimum train fold: {output_formatting(statistic['samples_in_min_train_set'], format)}')"
   ]
  },
  {
   "cell_type": "markdown",
   "metadata": {},
   "source": [
    "Create a cross-validation object with chosen test's length (`25`). Train set is requered to be bigger than `2 years` of stock's history + 10 days of stock's history"
   ]
  },
  {
   "cell_type": "code",
   "execution_count": 13,
   "metadata": {},
   "outputs": [
    {
     "data": {
      "image/png": "[encoded data removed]",
      "text/plain": [
       "<Figure size 640x480 with 1 Axes>"
      ]
     },
     "metadata": {},
     "output_type": "display_data"
    }
   ],
   "source": [
    "tscv_25 = MultiTimeSeriesSplit(n_splits=n_splits, \n",
    "                            min_train_size=days_in_2years_history+10, \n",
    "                            max_train_size=None, \n",
    "                            test_size=validation_set_size, \n",
    "                            gap=0)\n",
    "fig = plot_cv(tscv_25, 'TimeSeriesSplit', X_train, y_train, scale_x=5000)\n",
    "display(fig)"
   ]
  },
  {
   "cell_type": "code",
   "execution_count": 14,
   "metadata": {},
   "outputs": [
    {
     "name": "stdout",
     "output_type": "stream",
     "text": [
      "Length of test (number of days) set in the cross validation showed above: \u001b[1;36m25\u001b[0m\n",
      "Minimum length of the train sets (number of days) in the cross-validation above: \u001b[1;36m680\u001b[0m\n"
     ]
    }
   ],
   "source": [
    "print(f'Length of test (number of days) set in the cross validation showed above: {output_formatting(tscv_25.get_test_size(), format)}')\n",
    "print(f'Minimum length of the train sets (number of days) in the cross-validation above: {output_formatting(tscv_25.get_min_train_size(), format)}')"
   ]
  },
  {
   "cell_type": "markdown",
   "metadata": {},
   "source": [
    "This time the time series split has a train fold with maximum length for the chosen test size."
   ]
  },
  {
   "cell_type": "code",
   "execution_count": 15,
   "metadata": {},
   "outputs": [
    {
     "name": "stdout",
     "output_type": "stream",
     "text": [
      "Length of maximum train fold: \u001b[1;36m453962\u001b[0m\n"
     ]
    }
   ],
   "source": [
    "time_series_split_max_train_set = 0\n",
    "for train_idxs, _ in tscv_25.split(X_train):\n",
    "    time_series_split_max_train_set = max(len(X_train.iloc[train_idxs]), time_series_split_max_train_set)\n",
    "statistic['samples_in_min_train_set'] = time_series_split_max_train_set\n",
    "print(f'Length of maximum train fold: {output_formatting(statistic['samples_in_min_train_set'], format)}')"
   ]
  },
  {
   "cell_type": "code",
   "execution_count": 16,
   "metadata": {},
   "outputs": [
    {
     "name": "stdout",
     "output_type": "stream",
     "text": [
      "Are there data from the same day in the train and test folds : \u001b[1;36mFalse\u001b[0m\n"
     ]
    }
   ],
   "source": [
    "print(f'Are there data from the same day in the train and test folds : {output_formatting(is_train_test_folds_have_common_dates(tscv, X_train), format)}')"
   ]
  },
  {
   "cell_type": "markdown",
   "metadata": {},
   "source": [
    "## Blocking TimeSeries Split"
   ]
  },
  {
   "cell_type": "code",
   "execution_count": 17,
   "metadata": {},
   "outputs": [],
   "source": [
    "tscv_blocking = MultiTimeSeriesSplit(n_splits=n_splits, \n",
    "                                     max_train_size=max_train_size, \n",
    "                                     min_train_size=days_in_2years_history, \n",
    "                                     test_size=validation_set_size, \n",
    "                                     gap=0)"
   ]
  },
  {
   "cell_type": "code",
   "execution_count": 18,
   "metadata": {},
   "outputs": [
    {
     "data": {
      "image/png": "[encoded data removed]",
      "text/plain": [
       "<Figure size 640x480 with 1 Axes>"
      ]
     },
     "metadata": {},
     "output_type": "display_data"
    }
   ],
   "source": [
    "fig = plot_cv(tscv_blocking, 'Blocking TimeSeriesSplit', X_train, y_train, scale_x=5000)\n",
    "display(fig)"
   ]
  },
  {
   "cell_type": "code",
   "execution_count": 19,
   "metadata": {},
   "outputs": [
    {
     "name": "stdout",
     "output_type": "stream",
     "text": [
      "Minimum length of the train sets \u001b[1;36m(number of days)\u001b[0m in the cross-validation above: \u001b[1;36m680\u001b[0m\n",
      "Length of train folds:\n",
      "0: 329822, 494 -> 1: 330279, 495 -> 2: 330758, 495 -> 3: 331245, 496 -> 4: 331667, 496 -> 5: 332036, 497 -> 6: 332411, 497 -> 7: 332786, 497 -> 8: 333182, 498 -> 9: 333557, 498 -> 10: 333932, 498\n"
     ]
    }
   ],
   "source": [
    "print(f'Minimum length of the train sets {output_formatting('(number of days)',format)} in the cross-validation above: {output_formatting(tscv_blocking.get_min_train_size(), format)}')\n",
    "print(f'Length of train folds:')\n",
    "i = 0\n",
    "end=' -> '\n",
    "for train_idxs, _ in tscv_blocking.split(X_train):\n",
    "    if i == n_splits-1:\n",
    "        end = '\\n'\n",
    "    print(f'{i}: {len(X_train.iloc[train_idxs])}, {len(X_train.iloc[train_idxs]['Name'].unique())}', end=end)\n",
    "    i += 1"
   ]
  },
  {
   "cell_type": "code",
   "execution_count": 20,
   "metadata": {},
   "outputs": [
    {
     "name": "stdout",
     "output_type": "stream",
     "text": [
      "Do the train and test folds contain data from the same day: \u001b[1;36mFalse\u001b[0m\n"
     ]
    }
   ],
   "source": [
    "print(f'Do the train and test folds contain data from the same day: {output_formatting(is_train_test_folds_have_common_dates(tscv_blocking, X_train), format)}')"
   ]
  },
  {
   "cell_type": "code",
   "execution_count": 21,
   "metadata": {},
   "outputs": [
    {
     "name": "stdout",
     "output_type": "stream",
     "text": [
      "Statistic:\n",
      "n_companies_train                498\n",
      "n_companies_test                 505\n",
      "X_train_dates                    955\n",
      "days_in_2years_history           504\n",
      "X_test_dates                     275\n",
      "max_train_size                   680\n",
      "max_days_in_validation_set        40\n",
      "samples_in_min_train_set      453962\n",
      "dtype: int64\n"
     ]
    }
   ],
   "source": [
    "print('Statistic:')\n",
    "print(pd.Series(statistic))"
   ]
  },
  {
   "cell_type": "markdown",
   "metadata": {},
   "source": [
    "# Model selecting"
   ]
  },
  {
   "cell_type": "code",
   "execution_count": 22,
   "metadata": {},
   "outputs": [],
   "source": [
    "from sklearn.utils import resample\n",
    "from sklearn.base import BaseEstimator, TransformerMixin\n",
    "from sklearn.compose import make_column_transformer\n",
    "from sklearn.compose import ColumnTransformer\n",
    "from sklearn.preprocessing import TargetEncoder, RobustScaler, StandardScaler, MaxAbsScaler, PowerTransformer, KBinsDiscretizer, QuantileTransformer, OrdinalEncoder\n",
    "from sklearn.decomposition import FastICA, PCA\n",
    "from sklearn.linear_model import LogisticRegression, SGDClassifier\n",
    "from sklearn.naive_bayes import GaussianNB\n",
    "from sklearn.svm import SVC\n",
    "from sklearn.ensemble import RandomForestClassifier, GradientBoostingClassifier, HistGradientBoostingClassifier\n",
    "from sklearn.pipeline import Pipeline\n",
    "from sklearn.metrics import accuracy_score, average_precision_score, roc_auc_score, f1_score, recall_score, log_loss, confusion_matrix \n",
    "\n",
    "import seaborn as sns\n",
    "\n",
    "from model.estimating import WrapModelTrainSizeParam, run_classifier_grid_search\n",
    "from model.validating import cv_scores_on_splits, cv_scores, cv_scores_per_params, create_comparation_table, cv_scores_on_splits_by_param, cv_scores_on_splits_per_param\n",
    "from input_output_plot.plotting import plot_learning_curves, lineplot, barplot, plot_features_count, plot_validation_curves\n",
    "from input_output_plot.printing import add_data_frames_to_file"
   ]
  },
  {
   "cell_type": "markdown",
   "metadata": {},
   "source": [
    "\n",
    "## Functions to build a model"
   ]
  },
  {
   "cell_type": "markdown",
   "metadata": {},
   "source": [
    "Create a pipline for a model which consists of\n",
    "- a column transforemer layer\n",
    "- a model layer, which is a model wrapped by WrapTrainSizeParam class. WrapTrainSizeParam adds the size of train set to the model's parameters."
   ]
  },
  {
   "cell_type": "code",
   "execution_count": 23,
   "metadata": {},
   "outputs": [],
   "source": [
    "def make_pipeline(configed_model,column_transformers, configed_dim_reducers=None, train_set_lengths=None):\n",
    "    # TODO make it work with model instance, not class, WrapModelTrainSizeParam needs to be rewrite in this case\n",
    "    # TODO add support for transformers parameters, like for dim_redusers \n",
    "    params = configed_model['params']\n",
    "    model_name = configed_model['model'].__name__.lower()\n",
    "\n",
    "    param_grid =  {f\"{model_name}__{param_name}\": param_values  for param_name, param_values in params.items()}\n",
    "    if train_set_lengths is not None:\n",
    "        param_grid[f\"{model_name}__train_length\"] = train_set_lengths\n",
    "        model = WrapModelTrainSizeParam(configed_model['model'])\n",
    "    else:\n",
    "        model = configed_model['model']()\n",
    "    \n",
    "    if isinstance(column_transformers, list) or isinstance(column_transformers, tuple):\n",
    "        transformer = \"passthrough\"\n",
    "        param_grid[\"transformer\"] = column_transformers\n",
    "    else:\n",
    "        transformer = column_transformers\n",
    "    if configed_dim_reducers is None:\n",
    "        reducer_dim = \"passthrough\"\n",
    "    elif isinstance(configed_dim_reducers, list) or isinstance(configed_dim_reducers, tuple):\n",
    "        reducer_dim = \"passthrough\"\n",
    "        param_grid_exemplar = param_grid\n",
    "        param_grid = []\n",
    "        for configed_reducer in configed_dim_reducers:\n",
    "            r_params = configed_reducer['params']\n",
    "            r_model = configed_reducer['model']\n",
    "            param_grid_current = param_grid_exemplar.copy()\n",
    "            param_grid_current[\"reduce_dim\"] = [r_model]\n",
    "            for param_name, param_values in r_params.items():\n",
    "                param_grid_current[f\"reduce_dim__{param_name}\"] = param_values\n",
    "            param_grid.append(param_grid_current)\n",
    "    else:\n",
    "        reducer_dim = configed_dim_reducers['model']\n",
    "        for param_name, param_values in configed_dim_reducers['params'].items():\n",
    "            param_grid[f\"reduce_dim__{param_name}\"] = param_values\n",
    "\n",
    "    pipeline = Pipeline([\n",
    "        ('transformer', transformer),\n",
    "        (\"reduce_dim\", reducer_dim), \n",
    "        (model_name, model)\n",
    "        ])\n",
    "    return {\n",
    "        'model': pipeline,\n",
    "        'params':param_grid,\n",
    "        }\n"
   ]
  },
  {
   "cell_type": "markdown",
   "metadata": {},
   "source": [
    "Define metrics to evaluate the performance of the cross-validated model."
   ]
  },
  {
   "cell_type": "code",
   "execution_count": 24,
   "metadata": {},
   "outputs": [],
   "source": [
    "scores = ['accuracy', 'average_precision', 'f1', 'roc_auc', 'log_loss']\n",
    "confusion_matrix_cells = ['tn', 'fp', 'fn', 'tp']\n",
    "def scorer(clf, X, y):\n",
    "    y_predict_prob = np.nan\n",
    "    if hasattr(clf, \"predict_proba\"):\n",
    "        y_predict_prob = clf.predict_proba(X)[:, 1]\n",
    "    if np.isnan(y_predict_prob).any() and hasattr(clf, \"decision_function\"):\n",
    "        y_predict_prob = clf.decision_function(X)\n",
    "    y_pred = np.nan\n",
    "    y_pred = clf.predict(X)\n",
    "    if not np.isnan(y_pred).any():\n",
    "        cm = confusion_matrix(y, y_pred)\n",
    "        scores = {\n",
    "            'accuracy': accuracy_score(y,y_pred),\n",
    "            'f1': f1_score(y,y_pred, average='binary'),\n",
    "            'tn': cm[0, 0], 'fp': cm[0, 1],\n",
    "            'fn': cm[1, 0], 'tp': cm[1, 1],\n",
    "        }\n",
    "        if not np.isnan(y_predict_prob).any():\n",
    "            scores['average_precision'] = average_precision_score(y,y_predict_prob)\n",
    "            scores['roc_auc'] = roc_auc_score(y,y_predict_prob)\n",
    "            scores['log_loss'] = log_loss(y,y_predict_prob)\n",
    "        else:\n",
    "            scores['average_precision'] = np.nan\n",
    "            scores['roc_auc'] = np.nan\n",
    "            scores['log_loss'] = np.nan\n",
    "    else:\n",
    "        scores = {\n",
    "            'accuracy': np.nan,\n",
    "            'average_precision': np.nan,\n",
    "            'f1': np.nan,\n",
    "            'roc_auc': np.nan,\n",
    "            'log_loss': np.nan,\n",
    "            'tn': np.nan, 'fp': np.nan,\n",
    "            'fn': np.nan, 'tp': np.nan,\n",
    "        }\n",
    "    return scores"
   ]
  },
  {
   "cell_type": "markdown",
   "metadata": {},
   "source": [
    "`train_classifiers` runs grid search on chosen classifiers and reurns a dictionary with results:  \n",
    "\n",
    "{  \n",
    "    'search_time': execution time in sec,  \n",
    "    'grid_search': fitted GridSearchCV object,  \n",
    "}"
   ]
  },
  {
   "cell_type": "code",
   "execution_count": 25,
   "metadata": {},
   "outputs": [],
   "source": [
    "def train_classifiers(results_file, classifiers, column_transformers, configed_dim_reducers=None, train_set_lengths=None, X=X_train, y=y_train, scoring=scorer, cv=tscv_25, return_train_score=True, refit='roc_auc',):\n",
    "    grid_search_results = []\n",
    "    models_names = [configed_model['model'].__name__.lower() for configed_model in classifiers]\n",
    "    def are_keys_in_list(keys, list_):\n",
    "        for key in keys:\n",
    "            if key not in list_:\n",
    "                return False\n",
    "        return True\n",
    "    \n",
    "    if not isinstance(column_transformers, dict) or not are_keys_in_list(models_names, column_transformers.keys()):\n",
    "        column_transformers = {configed_model['model'].__name__.lower() : column_transformers for configed_model in classifiers}\n",
    "    if not isinstance(configed_dim_reducers, dict) or not are_keys_in_list(models_names, configed_dim_reducers.keys()):\n",
    "        configed_dim_reducers = {configed_model['model'].__name__.lower() : configed_dim_reducers for configed_model in classifiers}\n",
    "\n",
    "\n",
    "    if not os.path.isfile(results_file):\n",
    "        for configed_model in classifiers:\n",
    "            model_name = configed_model['model'].__name__.lower()\n",
    "            print(f'Run grid search on {output_formatting(model_name, format)} classifier')\n",
    "            print('With', output_formatting('parameters:',format), configed_model['params'])\n",
    "            print('For', output_formatting('train set lengths:', format), train_set_lengths)\n",
    "            pipeline = make_pipeline(configed_model, column_transformers[model_name], configed_dim_reducers[model_name], train_set_lengths)\n",
    "            #print('Pipeline:', pipeline)\n",
    "            grid_search_result = run_classifier_grid_search(\n",
    "                pipeline,\n",
    "                X, y,\n",
    "                scoring=scoring,\n",
    "                refit=refit,\n",
    "                cv=cv,\n",
    "                return_train_score=return_train_score,\n",
    "            )\n",
    "            grid_search_result['name'] = model_name\n",
    "            grid_search_results.append(grid_search_result)\n",
    "        \n",
    "            print('-----------------------------------------------------')\n",
    "            print(f\"Grid search took {output_formatting(grid_search_result['search_time']/60, format)} minutes\")\n",
    "            print(output_formatting('Best parameters:',format), grid_search_result['grid_search'].best_params_)\n",
    "            print(output_formatting('Best scores:',format), grid_search_result['grid_search'].best_score_)\n",
    "            print('===================================================================================================================')\n",
    "        \n",
    "        with open(results_file, 'wb') as f:\n",
    "            pickle.dump(grid_search_results, f)\n",
    "    else:\n",
    "        print(f'load trained models from {results_file}')\n",
    "        with open(results_file, 'rb') as f:\n",
    "            grid_search_results = pickle.load(f)\n",
    "\n",
    "    return grid_search_results"
   ]
  },
  {
   "cell_type": "markdown",
   "metadata": {},
   "source": [
    "### Transformers"
   ]
  },
  {
   "cell_type": "markdown",
   "metadata": {},
   "source": [
    "Transfom the column 'Name' with TargetEncoder.  \n",
    "Scale numeric columns with Robustscaler, except for indicators where values are only `0` and `1`.  \n",
    "Scale indicators columns with Standartscaler."
   ]
  },
  {
   "cell_type": "code",
   "execution_count": 26,
   "metadata": {},
   "outputs": [],
   "source": [
    "# create a column transformer\n",
    "cols_indicators = [col for col in X_train.columns if 'indicator' in col]\n",
    "cols_not_indicators = [col for col in X_train.columns if not ('indicator' in col) and col!='Name']\n"
   ]
  },
  {
   "cell_type": "markdown",
   "metadata": {},
   "source": [
    "Create a class for each columns' transforemer to simplify output of GridSearchCV.best_params_, so it will output the name of a class, not the all ColumnTransformer's parameters."
   ]
  },
  {
   "cell_type": "code",
   "execution_count": 27,
   "metadata": {},
   "outputs": [],
   "source": [
    "class EncoderNameScalerDigitCols(ColumnTransformer):\n",
    "    def __init__(self, transformers_columns=None, encoder=TargetEncoder(cv=5), encoder_columns=['Name'], remainder='passthrough',verbose_feature_names_out=True):  \n",
    "        # transformers_columns is a list of tuples (transformer, columns) specifying the transformer objects to be applied to the columns \n",
    "        self.transformers_columns = transformers_columns\n",
    "        self.encoder_columns = encoder_columns\n",
    "        self.encoder = encoder\n",
    "        self.remainder = remainder\n",
    "        self.verbose_feature_names_out=verbose_feature_names_out\n",
    "        transformer_sequence = self._make_transformer_tuples()\n",
    "        super().__init__(transformers=transformer_sequence, remainder=self.remainder, verbose_feature_names_out=self.verbose_feature_names_out)  \n",
    "        # self.set_output(transform='pandas')\n",
    "  \n",
    "    def get_params(self, deep=True):  \n",
    "        params = super().get_params(deep=deep)\n",
    "        params['transformers_columns'] = self.transformers_columns \n",
    "        params['encoder_columns'] = self.encoder_columns\n",
    "        params['encoder'] = self.encoder\n",
    "        params['remainder'] = self.remainder\n",
    "        return params  \n",
    "  \n",
    "    def set_params(self, **params):\n",
    "        self.transformers_columns = params.pop('transformers_columns',self.transformers_columns)\n",
    "        self.encoder_columns = params.pop('encoder_columns',self.encoder_columns)\n",
    "        self.encoder = params.pop('encoder',self.encoder) \n",
    "        self.verbose_feature_names_out = params.pop('verbose_feature_names_out', self.verbose_feature_names_out)\n",
    "        print('set',self.transformers_columns)\n",
    "        transformer_sequence = self._make_transformer_tuples()\n",
    "        encoder_columns = self.encoder_columns\n",
    "        encoder = self.encoder\n",
    "        verbose_feature_names_out = self.verbose_feature_names_out\n",
    "        self = ColumnTransformer(transformers=transformer_sequence, remainder=self.remainder, verbose_feature_names_out=self.verbose_feature_names_out)  \n",
    "        self.encoder_columns = encoder_columns\n",
    "        self.encoder = encoder\n",
    "        self.verbose_feature_names_out = verbose_feature_names_out\n",
    "        super().set_params(**params)\n",
    "        return self\n",
    "  \n",
    "    def _make_transformer_tuples(self):\n",
    "        #(name, transformer, columns) \n",
    "        if self.transformers_columns is None or self.transformers_columns == 'passthrough':\n",
    "            self.transformers_tuples = [] \n",
    "        else:\n",
    "            self.transformers_tuples = [(transformer.__class__.__name__, transformer, transformer_columns) for transformer, transformer_columns in self.transformers_columns]   \n",
    "        \n",
    "        return [\n",
    "            ('name_encoder', self.encoder, self.encoder_columns),\n",
    "            *self.transformers_tuples, \n",
    "        ]\n",
    "    "
   ]
  },
  {
   "cell_type": "code",
   "execution_count": 28,
   "metadata": {},
   "outputs": [],
   "source": [
    "class StanradIndicatorsRobustNotIndicatorsDigitCols(EncoderNameScalerDigitCols):\n",
    "    def __init__(self, transformers_columns=[(StandardScaler(),cols_indicators),(RobustScaler(),cols_not_indicators)], quantile_range=(25.0, 75.0), encoder=TargetEncoder(cv=5),  encoder_columns=['Name'], remainder='passthrough', verbose_feature_names_out=True):  \n",
    "        self.quantile_range = quantile_range\n",
    "        transformers_columns[1][0].set_params(quantile_range=self.quantile_range)\n",
    "        super().__init__(transformers_columns=transformers_columns, encoder=encoder, encoder_columns=encoder_columns, remainder=remainder, verbose_feature_names_out=verbose_feature_names_out)\n",
    "  \n",
    "    def get_params(self, deep=True):  \n",
    "        params = super().get_params(deep=deep)\n",
    "        params['quantile_range'] = self.quantile_range \n",
    "        return params  \n",
    "  \n",
    "    def set_params(self, **params):\n",
    "        self.quantile_range = params.pop('quantile_range',self.quantile_range)\n",
    "        self.transformers_columns = params.pop('transformers_columns')\n",
    "        self.transformers_columns[1][0].set_params(quantile_range=self.quantile_range)\n",
    "        self = super().set_params(**params)\n",
    "        return self "
   ]
  },
  {
   "cell_type": "code",
   "execution_count": 29,
   "metadata": {},
   "outputs": [],
   "source": [
    "class RobustNotIndicatorsDigitCols(EncoderNameScalerDigitCols):\n",
    "    def __init__(self, transformers_columns=[(RobustScaler(),cols_not_indicators)], quantile_range=(25.0, 75.0), encoder=TargetEncoder(cv=5), encoder_columns=['Name'], remainder='passthrough', verbose_feature_names_out=True):\n",
    "        self.quantile_range = quantile_range\n",
    "        transformers_columns[0][0].set_params(quantile_range=self.quantile_range) # gridsearch gives an error in if the scaler is defined in the constructor (sclalers=RobustScaler(quantile_range=self.quantile_range))\n",
    "        super().__init__(transformers_columns=transformers_columns, encoder=encoder, encoder_columns=encoder_columns, remainder=remainder, verbose_feature_names_out=verbose_feature_names_out)\n",
    "  \n",
    "    def get_params(self, deep=True):  \n",
    "        params = super().get_params(deep=deep)\n",
    "        params['quantile_range'] = self.quantile_range \n",
    "        return params  \n",
    "  \n",
    "    def set_params(self, **params):\n",
    "        self.quantile_range = params.pop('quantile_range',self.quantile_range)\n",
    "        self.transformers_columns = params.pop('transformers_columns')\n",
    "        self.transformers_columns[0].set_params(quantile_range=self.quantile_range)\n",
    "        self = super().set_params(**params)\n",
    "        return self  "
   ]
  },
  {
   "cell_type": "code",
   "execution_count": 30,
   "metadata": {},
   "outputs": [],
   "source": [
    "class NamedTransformer(BaseEstimator, TransformerMixin):\n",
    "    def __init__(self, transformer, name):\n",
    "        self.transformer = transformer\n",
    "        self.name = name\n",
    "    def fit(self, X, y=None):\n",
    "        return self.transformer.fit(X, y)\n",
    "    def transform(self, X):\n",
    "        return self.transformer.transform(X)\n",
    "    def __repr__(self):\n",
    "        return self.name\n",
    "    def describe(self):\n",
    "        return self.__str__()\n",
    "    def get_feature_names_out(self):\n",
    "        return self.transformer.get_feature_names_out()"
   ]
  },
  {
   "cell_type": "code",
   "execution_count": 31,
   "metadata": {},
   "outputs": [],
   "source": [
    "#TODO add BinaryEncoder and 'drop' as encoder\n",
    "not_indicator_features = [col for col in X_train_capped.columns if col!='Name' and 'indicator' not in col]\n",
    "standard_scaling_cols = ['rsi', 'cmf']\n",
    "power_transformer_cols = ['Bollinger_width']\n",
    "kbins_discretizer_cols = ['Aroon_down', 'Aroon_up']\n",
    "quantile_transformer_cols = [col for col in not_indicator_features if col not in standard_scaling_cols+power_transformer_cols+kbins_discretizer_cols]\n",
    "\n",
    "not_indicator_addition_features = [col for col in X_train_addition.columns if col!='Name' and 'indicator' not in col]\n",
    "power_transformer_addition_cols = ['keltner_channel_width', 'ulcer_index']\n",
    "kbins_discretizer_addition_cols = ['Aroon_ind']\n",
    "quantile_transformer_addition_cols = [col for col in not_indicator_addition_features if col not in power_transformer_addition_cols+kbins_discretizer_addition_cols]\n",
    "\n",
    "std_scaler = StandardScaler() \n",
    "max_abs_scaler = MaxAbsScaler()\n",
    "power_transforemer = PowerTransformer(method='yeo-johnson')\n",
    "kbins_uniform = KBinsDiscretizer(n_bins=10, strategy='uniform')\n",
    "kbins_quantile = KBinsDiscretizer(n_bins=10, strategy='quantile')\n",
    "quantile_transformer = QuantileTransformer(output_distribution='normal')\n",
    "ordinal_encoder = OrdinalEncoder(handle_unknown='use_encoded_value', unknown_value=555)\n",
    "target_encoder = TargetEncoder(cv=5)\n",
    "encoders = [ordinal_encoder, target_encoder, 'drop']\n",
    "encoders_names=['ordinal', 'target', 'drop']\n",
    "column_transformers = {}\n",
    "for encoder_name, encoder in zip(encoders_names, encoders):\n",
    "    column_transformers[f'{encoder_name}_std_quantile_power_kbins_u'] = NamedTransformer(name=f'{encoder_name}_std_quantile_power_kbins_u', \n",
    "                                                transformer=EncoderNameScalerDigitCols(\n",
    "                                                    transformers_columns=[(std_scaler,standard_scaling_cols), \n",
    "                                                            (power_transforemer, power_transformer_cols), \n",
    "                                                            (kbins_uniform, kbins_discretizer_cols), \n",
    "                                                            (quantile_transformer, quantile_transformer_cols)], \n",
    "                                                    encoder=encoder, verbose_feature_names_out=False\n",
    "                )).set_output(transform='pandas')\n",
    "    column_transformers[f'{encoder_name}_std_quantile_power_kbins_q'] = NamedTransformer(name=f'{encoder_name}_std_quantile_power_kbins_q', \n",
    "                                                transformer=EncoderNameScalerDigitCols(\n",
    "                                                    transformers_columns=[(std_scaler,standard_scaling_cols), \n",
    "                                                            (power_transforemer, power_transformer_cols), \n",
    "                                                            (kbins_quantile, kbins_discretizer_cols), \n",
    "                                                            (quantile_transformer, quantile_transformer_cols)], \n",
    "                                                    encoder=encoder, verbose_feature_names_out=False\n",
    "                )).set_output(transform='pandas')\n",
    "    column_transformers[f'{encoder_name}_quantile_power_kbins_u'] = NamedTransformer(name=f'{encoder_name}_quantile_power_kbins_u', \n",
    "                                            transformer=EncoderNameScalerDigitCols(\n",
    "                                                transformers_columns=[(power_transforemer, power_transformer_cols), \n",
    "                                                        (kbins_uniform, kbins_discretizer_cols), \n",
    "                                                        (quantile_transformer,standard_scaling_cols+quantile_transformer_cols)], \n",
    "                                                encoder=encoder, verbose_feature_names_out=False\n",
    "                )).set_output(transform='pandas')\n",
    "    column_transformers[f'{encoder_name}_quantile_power_kbins_q'] = NamedTransformer(name=f'{encoder_name}_quantile_power_kbins_q', \n",
    "                                            transformer=EncoderNameScalerDigitCols(\n",
    "                                                transformers_columns=[(power_transforemer, power_transformer_cols), \n",
    "                                                        (kbins_quantile, kbins_discretizer_cols), \n",
    "                                                        (quantile_transformer,standard_scaling_cols+quantile_transformer_cols)], \n",
    "                                                encoder=encoder, verbose_feature_names_out=False\n",
    "                )).set_output(transform='pandas')\n",
    "    column_transformers[f'{encoder_name}_quantile_power'] = NamedTransformer(name=f'{encoder_name}_quantile_power', \n",
    "                                    transformer=EncoderNameScalerDigitCols(\n",
    "                                        transformers_columns=[(power_transforemer, power_transformer_cols),\n",
    "                                                    (quantile_transformer, quantile_transformer_cols)], \n",
    "                                        encoder=encoder, verbose_feature_names_out=False\n",
    "                )).set_output(transform='pandas')\n",
    "    column_transformers[f'{encoder_name}_no_transform_digit_cols'] = NamedTransformer(name=f'{encoder_name}_no_transform_digit_cols', \n",
    "                                    transformer=EncoderNameScalerDigitCols(\n",
    "                                        transformers_columns=None,\n",
    "                                        encoder=encoder, verbose_feature_names_out=False\n",
    "                )).set_output(transform='pandas')\n",
    "    column_transformers[f'{encoder_name}_max_abs_not_indicators'] = NamedTransformer(name=f'{encoder_name}_max_abs_not_indicators', \n",
    "                                    transformer=EncoderNameScalerDigitCols(\n",
    "                                        transformers_columns=[(max_abs_scaler,cols_not_indicators)], \n",
    "                                        encoder=encoder, verbose_feature_names_out=False\n",
    "                )).set_output(transform='pandas')\n",
    "\n",
    "    column_transformers[f'{encoder_name}_standard_not_indicators'] = NamedTransformer(name=f'{encoder_name}_standard_not_indicators', \n",
    "                                    transformer=EncoderNameScalerDigitCols(\n",
    "                                        transformers_columns=[(std_scaler,cols_not_indicators)], \n",
    "                                        encoder=encoder, verbose_feature_names_out=False\n",
    "                )).set_output(transform='pandas')\n",
    "\n",
    "    column_transformers[f'{encoder_name}_standard'] = NamedTransformer(name=f'{encoder_name}_standard', \n",
    "                                    transformer=EncoderNameScalerDigitCols(\n",
    "                                        transformers_columns=[(std_scaler,[*cols_not_indicators, *cols_indicators])], \n",
    "                                        encoder=encoder, verbose_feature_names_out=False\n",
    "                )).set_output(transform='pandas')\n",
    "    column_transformers[f'{encoder_name}_standard_robust'] = NamedTransformer(name=f'{encoder_name}_standard_robust', \n",
    "                                    transformer=StanradIndicatorsRobustNotIndicatorsDigitCols(encoder=encoder, verbose_feature_names_out=False\n",
    "                )).set_output(transform='pandas')\n",
    "    column_transformers[f'{encoder_name}_robust_not_indicators'] = NamedTransformer(name=f'{encoder_name}_robust_not_indicators', \n",
    "                                    transformer=RobustNotIndicatorsDigitCols(encoder=encoder, verbose_feature_names_out=False\n",
    "                )).set_output(transform='pandas')\n",
    "\n",
    "from category_encoders.binary import BinaryEncoder\n",
    "encoders_lots_features = [BinaryEncoder()]\n",
    "encoders_names_lots_features=['binary']\n",
    "kbins_uniform_dense = KBinsDiscretizer(n_bins=20, strategy='uniform', encode='onehot-dense')\n",
    "kbins_quantile_dense = KBinsDiscretizer(n_bins=20, strategy='quantile', encode='onehot-dense')\n",
    "column_transformers_lots_features = {}\n",
    "for encoder_name, encoder in zip(encoders_names_lots_features, encoders_lots_features):\n",
    "    column_transformers_lots_features[f'{encoder_name}_std_quantile_power_kbins_u'] = NamedTransformer(name=f'{encoder_name}_std_quantile_power_kbins_u', \n",
    "                                                transformer=EncoderNameScalerDigitCols(\n",
    "                                                    transformers_columns=[(std_scaler,standard_scaling_cols), \n",
    "                                                            (power_transforemer, power_transformer_cols), \n",
    "                                                            (kbins_uniform, kbins_discretizer_cols), \n",
    "                                                            (quantile_transformer, quantile_transformer_cols)], \n",
    "                                                    encoder=encoder, verbose_feature_names_out=False\n",
    "                )).set_output(transform='pandas')\n",
    "    column_transformers_lots_features[f'{encoder_name}_std_quantile_power_kbins_q'] = NamedTransformer(name=f'{encoder_name}_std_quantile_power_kbins_q', \n",
    "                                                transformer=EncoderNameScalerDigitCols(\n",
    "                                                    transformers_columns=[(std_scaler,standard_scaling_cols), \n",
    "                                                            (power_transforemer, power_transformer_cols), \n",
    "                                                            (kbins_quantile, kbins_discretizer_cols), \n",
    "                                                            (quantile_transformer, quantile_transformer_cols)], \n",
    "                                                    encoder=encoder, verbose_feature_names_out=False\n",
    "                )).set_output(transform='pandas')\n",
    "    column_transformers_lots_features[f'{encoder_name}_quantile_power_kbins_u'] = NamedTransformer(name=f'{encoder_name}_quantile_power_kbins_u', \n",
    "                                            transformer=EncoderNameScalerDigitCols(\n",
    "                                                transformers_columns=[(power_transforemer, power_transformer_cols), \n",
    "                                                        (kbins_uniform, kbins_discretizer_cols), \n",
    "                                                        (quantile_transformer,standard_scaling_cols+quantile_transformer_cols)], \n",
    "                                                encoder=encoder, verbose_feature_names_out=False\n",
    "                )).set_output(transform='pandas')\n",
    "    column_transformers_lots_features[f'{encoder_name}_quantile_power_kbins_q'] = NamedTransformer(name=f'{encoder_name}_quantile_power_kbins_q', \n",
    "                                            transformer=EncoderNameScalerDigitCols(\n",
    "                                                transformers_columns=[(power_transforemer, power_transformer_cols), \n",
    "                                                        (kbins_quantile, kbins_discretizer_cols), \n",
    "                                                        (quantile_transformer,standard_scaling_cols+quantile_transformer_cols)], \n",
    "                                                encoder=encoder, verbose_feature_names_out=False\n",
    "                )).set_output(transform='pandas')\n",
    "    column_transformers_lots_features[f'{encoder_name}_quantile_power'] = NamedTransformer(name=f'{encoder_name}_quantile_power', \n",
    "                                    transformer=EncoderNameScalerDigitCols(\n",
    "                                        transformers_columns=[(power_transforemer, power_transformer_cols),\n",
    "                                                    (quantile_transformer, quantile_transformer_cols)], \n",
    "                                        encoder=encoder, verbose_feature_names_out=False\n",
    "                )).set_output(transform='pandas')\n",
    "    column_transformers_lots_features[f'{encoder_name}_non_scale_digit_cols'] = NamedTransformer(name=f'{encoder_name}_non_scale_digit_cols', \n",
    "                                    transformer=EncoderNameScalerDigitCols(\n",
    "                                        transformers_columns=None, \n",
    "                                        encoder=encoder, verbose_feature_names_out=False\n",
    "                )).set_output(transform='pandas')\n",
    "    column_transformers_lots_features[f'{encoder_name}_max_abs_not_indicators'] = NamedTransformer(name=f'{encoder_name}_max_abs_not_indicators', \n",
    "                                    transformer=EncoderNameScalerDigitCols(\n",
    "                                        transformers_columns=[(max_abs_scaler,cols_not_indicators)], \n",
    "                                        encoder=encoder, verbose_feature_names_out=False\n",
    "                )).set_output(transform='pandas')\n",
    "\n",
    "    column_transformers_lots_features[f'{encoder_name}_standard_not_indicators'] = NamedTransformer(name=f'{encoder_name}_standard_not_indicators', \n",
    "                                    transformer=EncoderNameScalerDigitCols(\n",
    "                                        transformers_columns=[(std_scaler,cols_not_indicators)], \n",
    "                                        encoder=encoder, verbose_feature_names_out=False\n",
    "                )).set_output(transform='pandas')\n",
    "    column_transformers_lots_features[f'{encoder_name}_standard'] = NamedTransformer(name=f'{encoder_name}_standard', \n",
    "                                    transformer=EncoderNameScalerDigitCols(\n",
    "                                        transformers_columns=[(std_scaler,[*cols_not_indicators, *cols_indicators])], \n",
    "                                        encoder=encoder, verbose_feature_names_out=False\n",
    "                )).set_output(transform='pandas')\n",
    "    column_transformers_lots_features[f'{encoder_name}_standard_robust'] = NamedTransformer(name=f'{encoder_name}_standard_robust', \n",
    "                                    transformer=StanradIndicatorsRobustNotIndicatorsDigitCols(encoder=encoder, verbose_feature_names_out=False\n",
    "                )).set_output(transform='pandas')\n",
    "    column_transformers_lots_features[f'{encoder_name}_robust_not_indicators'] = NamedTransformer(name=f'{encoder_name}_robust_not_indicators', \n",
    "                                    transformer=RobustNotIndicatorsDigitCols(encoder=encoder, verbose_feature_names_out=False\n",
    "                )).set_output(transform='pandas')\n",
    "\n",
    "    column_transformers_lots_features[f'{encoder_name}_uniform'] = NamedTransformer(name=f'{encoder_name}_uniform', \n",
    "                                                                      transformer=EncoderNameScalerDigitCols(\n",
    "                                                                          transformers_columns=[(kbins_uniform_dense, cols_not_indicators)], \n",
    "                                                                          encoder=encoder, verbose_feature_names_out=False\n",
    "                )).set_output(transform='pandas')\n",
    "    column_transformers_lots_features[f'{encoder_name}_quantile'] = NamedTransformer(name=f'{encoder_name}_quantile', \n",
    "                                                                      transformer=EncoderNameScalerDigitCols(\n",
    "                                                                          transformers_columns=[(kbins_quantile_dense, cols_not_indicators)], \n",
    "                                                                          encoder=encoder, verbose_feature_names_out=False\n",
    "                )).set_output(transform='pandas')\n"
   ]
  },
  {
   "cell_type": "markdown",
   "metadata": {},
   "source": [
    "### Functions for analyzing results "
   ]
  },
  {
   "cell_type": "code",
   "execution_count": null,
   "metadata": {},
   "outputs": [],
   "source": [
    "score_file = os.path.join(results_dir,'ml_metrics_train.md')\n",
    "accuracy_roc_file = os.path.join(results_dir,'ml_metrics_train_accuracy_roc.md')\n",
    "\n",
    "def create_tables_of_best_scores(grid_search_results):\n",
    "    for grid_search_result in grid_search_results:\n",
    "        grid_search_result['scores_on_splits'], grid_search_result['best_estimator_scores'] = \\\n",
    "            cv_scores_on_splits(grid_search_result['grid_search'],scores=scores,confusion_matrix_cells=confusion_matrix_cells,n=2)\n",
    "        \n",
    "def save_scores_of_stage_to_file(grid_search_results, stage, file_path=score_file):\n",
    "    create_tables_of_best_scores(grid_search_results)\n",
    "    with open(file_path, 'a', encoding='utf-8') as f: \n",
    "        f.write(f'\\n\\n## Stage: {stage} \\n')\n",
    "\n",
    "    scores_dfs = {f\"{grid_search_result['name']}\\n({grid_search_result['grid_search'].best_params_})\\ntime: {grid_search_result['search_time']/60} min\\n\":\n",
    "              grid_search_result['best_estimator_scores'] for grid_search_result in grid_search_results}\n",
    "    add_data_frames_to_file(file_path, scores_dfs)"
   ]
  },
  {
   "cell_type": "code",
   "execution_count": null,
   "metadata": {},
   "outputs": [],
   "source": [
    "key_results_file = os.path.join(results_dir, 'key_results.md')\n",
    "    \n",
    "def save_grid_search_key_results(grid_search_results, stage, file_path=key_results_file):\n",
    "    with open(file_path, 'a', encoding='utf-8') as f: \n",
    "        f.write(f'\\n\\n## Stage: {stage} \\n')\n",
    "        for grid_search_result in grid_search_results:\n",
    "            param_grid = flatten_list_of_dicts(grid_search_result[\"grid_search\"].param_grid)\n",
    "             \n",
    "            grid_search_result['key_results'] = pd.Series([\n",
    "                param_grid, \n",
    "                grid_search_result[\"grid_search\"].best_params_, \n",
    "                grid_search_result[\"grid_search\"].best_score_, \n",
    "                grid_search_result[\"search_time\"]/60],\n",
    "                index=['Parameters grid', 'Best parameters', 'Best scores', 'Search time(min)'\n",
    "            ])\n",
    "            f.write(f'\\n\\n### {grid_search_result[\"name\"]}\\n')\n",
    "            f.write(grid_search_result['key_results'].to_markdown())\n",
    "            f.write('\\n------------------------------------------------------------------------------------------------------')\n",
    "    print(f'--- data is saved to {file_path} ---')"
   ]
  },
  {
   "cell_type": "code",
   "execution_count": null,
   "metadata": {},
   "outputs": [],
   "source": [
    "def concatenate_estimators_scores(grid_search_results, score_key='best_estimator_scores'):\n",
    "    dfs = []\n",
    "    for grid_search_result in grid_search_results:\n",
    "        df = grid_search_result[score_key].copy()\n",
    "        df['Model name'] = grid_search_result['name']\n",
    "        dfs.append(df)\n",
    "    return pd.concat(dfs)"
   ]
  },
  {
   "cell_type": "code",
   "execution_count": null,
   "metadata": {},
   "outputs": [],
   "source": [
    "def create_tables_of_scores_by_param(grid_search_results, par_names, key, score='roc_auc'):\n",
    "    def define_param_name(grid_search_result, par_name):\n",
    "        if par_name in flatten_list_of_dicts(grid_search_result['grid_search'].param_grid):\n",
    "            return par_name\n",
    "        else:\n",
    "            return f'{grid_search_result[\"name\"]}__{par_name}'\n",
    "        \n",
    "    def get_best_params_value(grid_search_result, param_name):\n",
    "        best_params_ = grid_search_result['grid_search'].best_params_\n",
    "        if param_name not in best_params_:\n",
    "            return \"-\"\n",
    "        sub_params = {name_.split('__')[-1]: value for name_, value in best_params_.items() if f'{param_name}__' in name_}\n",
    "        if not sub_params:\n",
    "            res_str =  f\"{best_params_[param_name]}\"\n",
    "        else:\n",
    "            res_str =  f\"{best_params_[param_name]} ({sub_params})\"\n",
    "        return res_str\n",
    "\n",
    "    best_params = {}\n",
    "    for grid_search_result in grid_search_results:\n",
    "        model_name = grid_search_result['name']\n",
    "        if isinstance(par_names, str):\n",
    "            param_name = define_param_name(grid_search_result, par_names)\n",
    "            grid_search_result[key] = cv_scores(grid_search_result['grid_search'], score=score, par_names=param_name)\n",
    "            best_params[model_name] = get_best_params_value(grid_search_result, param_name)\n",
    "        else:\n",
    "            param_names = [define_param_name(grid_search_result, par_name) for par_name in par_names]\n",
    "            grid_search_result[key] = cv_scores_per_params(grid_search_result['grid_search'], score=score, par_names=param_names)\n",
    "            best_params[model_name] = {par_name: get_best_params_value(grid_search_result, par_name) for par_name in param_names}\n",
    "\n",
    "    \n",
    "    res_df = concatenate_estimators_scores(grid_search_results, score_key=key)\n",
    "    \n",
    "    return res_df, best_params\n",
    "\n",
    "def print_scores_by_param(res_df, best_params, title, score='roc_auc', param_values_prune=None, model_names_prune=None ):\n",
    "    print(f'****Splitwise mean of {color}{score}{del_format} scores for each {title} and the best value for the other parametrs****\\n')\n",
    "    for model_name, best_param in best_params.items():\n",
    "        print(f\"Best parameters: {output_formatting(model_name, format)}: {best_param}\")\n",
    "    print('\\n========================================================================================================')\n",
    "\n",
    "    to_print_df = res_df.pivot(columns='Model name').swaplevel(axis='columns').sort_index(axis='columns', level=0, sort_remaining=False)\n",
    "    to_print_df = to_print_df.rename(columns=lambda x: x[:model_names_prune], level='Model name')\n",
    "    to_print_df = to_print_df.rename(index=lambda x: x[:param_values_prune] if isinstance(x, str) else x)\n",
    "    print(to_print_df)"
   ]
  },
  {
   "cell_type": "code",
   "execution_count": null,
   "metadata": {},
   "outputs": [
    {
     "name": "stdout",
     "output_type": "stream",
     "text": [
      "plot of ROC_AUC scores are saved into  \u001b[1;36m../results/roc_auc_t_r.pdf\u001b[0m\n"
     ]
    }
   ],
   "source": [
    "def plot_validation_by(df_to_plot, by, score_to_plot='roc_auc', hue='Model name', figsize=(11, 4), rotation_ticks=False):\n",
    "    value_vars=['train', 'test']\n",
    "    id_vars=[c for c in df_to_plot.columns if c not in value_vars]\n",
    "    df_to_plot = df_to_plot.melt(id_vars=id_vars, value_vars=value_vars, var_name='set', value_name=score_to_plot)\n",
    "    snsplot = lineplot(df_to_plot, x=by,  y=score_to_plot, style='set', hue=hue, title=f'{score_to_plot} by {by}s', figsize=figsize, rotation_ticks=rotation_ticks) \n",
    "    return snsplot"
   ]
  },
  {
   "cell_type": "markdown",
   "metadata": {},
   "source": [
    "## GridSearch with more features( RandomForestClassifier )"
   ]
  },
  {
   "cell_type": "code",
   "execution_count": 87,
   "metadata": {},
   "outputs": [],
   "source": [
    "X_train_big = pd.concat([X_train, X_train_addition], axis=1)\n",
    "be = BinaryEncoder()\n",
    "column_transformers_bin_big = NamedTransformer(name=f'binary_std_quantile_power_kbins_q', \n",
    "                                                transformer=EncoderNameScalerDigitCols(\n",
    "                                                    transformers_columns=[(std_scaler,standard_scaling_cols), \n",
    "                                                            (power_transforemer, power_transformer_cols+power_transformer_addition_cols), \n",
    "                                                            (kbins_quantile, kbins_discretizer_cols+kbins_discretizer_addition_cols), \n",
    "                                                            (quantile_transformer, quantile_transformer_cols+quantile_transformer_addition_cols),], \n",
    "                                                    encoder=be, verbose_feature_names_out=False\n",
    "                )).set_output(transform='pandas')\n",
    "column_transformers_ord_big = NamedTransformer(name=f'order_std_quantile_power_kbins_q', \n",
    "                                                transformer=EncoderNameScalerDigitCols(\n",
    "                                                    transformers_columns=[(std_scaler,standard_scaling_cols), \n",
    "                                                            (power_transforemer, power_transformer_cols+power_transformer_addition_cols), \n",
    "                                                            (kbins_quantile, kbins_discretizer_cols+kbins_discretizer_addition_cols), \n",
    "                                                            (quantile_transformer, quantile_transformer_cols+quantile_transformer_addition_cols),], \n",
    "                                                    encoder=ordinal_encoder, verbose_feature_names_out=False\n",
    "                )).set_output(transform='pandas')"
   ]
  },
  {
   "cell_type": "markdown",
   "metadata": {},
   "source": [
    "### Classifiers and hyperparameters."
   ]
  },
  {
   "cell_type": "code",
   "execution_count": 88,
   "metadata": {},
   "outputs": [],
   "source": [
    "configer_classifier_rf2=[\n",
    "    {\n",
    "        'model':RandomForestClassifier, \n",
    "        'params': {\n",
    "            'n_estimators': [200],# 250],\n",
    "            #'min_samples_split': [2], 2- default \n",
    "            'min_samples_leaf': [5],#6], \n",
    "            'max_features': [None],\n",
    "            'max_depth': [5],\n",
    "        }\n",
    "    },\n",
    "]\n",
    "X_train_big = pd.concat([X_train, X_train_addition[X_train_addition.columns.difference(['Name'])]], axis=1)\n",
    "be = BinaryEncoder()\n",
    "column_transformers_bin_big = NamedTransformer(name=f'binary_std_quantile_power_kbins_q', \n",
    "                                                transformer=EncoderNameScalerDigitCols(\n",
    "                                                    transformers_columns=[(std_scaler,standard_scaling_cols), \n",
    "                                                            (power_transforemer, power_transformer_cols+power_transformer_addition_cols), \n",
    "                                                            (kbins_quantile, kbins_discretizer_cols+kbins_discretizer_addition_cols), \n",
    "                                                            (quantile_transformer, quantile_transformer_cols+quantile_transformer_addition_cols),], \n",
    "                                                    encoder=be, verbose_feature_names_out=False\n",
    "                )).set_output(transform='pandas')\n",
    "column_transformers_ord_big = NamedTransformer(name=f'order_std_quantile_power_kbins_q', \n",
    "                                                transformer=EncoderNameScalerDigitCols(\n",
    "                                                    transformers_columns=[(std_scaler,standard_scaling_cols), \n",
    "                                                            (power_transforemer, power_transformer_cols+power_transformer_addition_cols), \n",
    "                                                            (kbins_quantile, kbins_discretizer_cols+kbins_discretizer_addition_cols), \n",
    "                                                            (quantile_transformer, quantile_transformer_cols+quantile_transformer_addition_cols),], \n",
    "                                                    encoder=ordinal_encoder, verbose_feature_names_out=False\n",
    "                )).set_output(transform='pandas')\n",
    "\n",
    "column_transformers_rf2 = [column_transformers_ord_big, column_transformers_bin_big]\n",
    "dim_reducers_rf2 = {'model': FastICA(), 'params': {'n_components': [2,4,6,8,None]}}\n",
    "train_set_lengths_rf2 = [265602, 300462]"
   ]
  },
  {
   "cell_type": "code",
   "execution_count": 89,
   "metadata": {},
   "outputs": [],
   "source": [
    "n_orgs_half = 250\n",
    "one_day_samples_half = resample(X_train[X_train.index=='2013-04-04'], n_samples=n_orgs_half, replace=False, stratify=y_train[X_train.index=='2013-04-04'])\n",
    "sample_orgs = one_day_samples_half['Name']\n",
    "X_train_big_half = X_train_big[X_train_big['Name'].isin(sample_orgs)]\n",
    "y_train_half = y_train[X_train_big['Name'].isin(sample_orgs)]"
   ]
  },
  {
   "cell_type": "markdown",
   "metadata": {},
   "source": [
    "### GridSearch"
   ]
  },
  {
   "cell_type": "code",
   "execution_count": 90,
   "metadata": {},
   "outputs": [
    {
     "name": "stdout",
     "output_type": "stream",
     "text": [
      "load trained models from ../results/pickled\\prediction_results_rf2.pkl\n"
     ]
    }
   ],
   "source": [
    "results_file_rf2= os.path.join(pkl_dir,'prediction_results_rf2.pkl' )#'selected_model.pkl'\n",
    "grid_search_results_rf2 = train_classifiers(results_file=results_file_rf2,\n",
    "                                         classifiers=configer_classifier_rf2,\n",
    "                                         column_transformers=column_transformers_rf2,\n",
    "                                         configed_dim_reducers=dim_reducers_rf2,\n",
    "                                         train_set_lengths=train_set_lengths_rf2, \n",
    "                                         X=X_train_big, y=y_train, \n",
    "                                         scoring=scorer, \n",
    "                                         cv=tscv_blocking,\n",
    ")"
   ]
  },
  {
   "cell_type": "markdown",
   "metadata": {},
   "source": [
    "### Analyze results"
   ]
  },
  {
   "cell_type": "code",
   "execution_count": 92,
   "metadata": {},
   "outputs": [
    {
     "name": "stdout",
     "output_type": "stream",
     "text": [
      "--- data is saved to ../results/key_results.md ---\n",
      "Saving randomforestclassifier\n",
      "({'randomforestcl...\n",
      "--- data is saved to ../results/ml_metrics_train.md ---\n"
     ]
    }
   ],
   "source": [
    "save_grid_search_key_results(grid_search_results_rf2, \"Choose RandomForestClassifier's hyperparameters\")\n",
    "save_scores_of_stage_to_file(grid_search_results_rf2, \"Choose RandomForestClassifier's hyperparameters\")"
   ]
  },
  {
   "cell_type": "code",
   "execution_count": 93,
   "metadata": {},
   "outputs": [
    {
     "name": "stdout",
     "output_type": "stream",
     "text": [
      "Saving randomforestclassifier...\n",
      "--- data is saved to ../results/ml_metrics_train_accuracy_roc.md ---\n"
     ]
    }
   ],
   "source": [
    "with open(accuracy_roc_file, 'a', encoding='utf-8') as f: \n",
    "    f.write(\"## Choose RandomForestClassifier's hyperparameters \\n\")\n",
    "accuracy_dfs = {}\n",
    "roc_auc_dfs = {}\n",
    "split7_9 = {}\n",
    "top_scores = {}\n",
    "for grid_search_result in grid_search_results_rf2:\n",
    "    name_ = grid_search_result['name']\n",
    "    sets = grid_search_result['scores_on_splits'].index.get_level_values('set')\n",
    "    accuracy_dfs[name_] = grid_search_result['scores_on_splits']['accuracy'][sets=='test'].dropna(how='all') \n",
    "    roc_auc_dfs[name_] = grid_search_result['scores_on_splits']['roc_auc'][sets=='test'].dropna(how='all')\n",
    "    splits = grid_search_result['scores_on_splits'].index.get_level_values('split')\n",
    "    split7_9[name_] = grid_search_result['scores_on_splits'][['accuracy','roc_auc']][(splits=='split7')|(splits=='split9')].dropna(how='all')\n",
    "    top_scores[name_] = pd.concat([accuracy_dfs[name_].nlargest(5,keep='all'),roc_auc_dfs[name_].nlargest(5,keep='all')], axis='columns')\n",
    "    top_scores[name_] = pd.concat([top_scores[name_],split7_9[name_]], axis='index')\n",
    "#for model, df in top_scores.items():\n",
    "    #print(f\"Top scores for {model}:\")\n",
    "    #display(df)\n",
    "add_data_frames_to_file(accuracy_roc_file, top_scores)"
   ]
  },
  {
   "cell_type": "code",
   "execution_count": 94,
   "metadata": {},
   "outputs": [
    {
     "data": {
      "text/html": [
       "<div>\n",
       "<style scoped>\n",
       "    .dataframe tbody tr th:only-of-type {\n",
       "        vertical-align: middle;\n",
       "    }\n",
       "\n",
       "    .dataframe tbody tr th {\n",
       "        vertical-align: top;\n",
       "    }\n",
       "\n",
       "    .dataframe thead th {\n",
       "        text-align: right;\n",
       "    }\n",
       "</style>\n",
       "<table border=\"1\" class=\"dataframe\">\n",
       "  <thead>\n",
       "    <tr style=\"text-align: right;\">\n",
       "      <th></th>\n",
       "      <th></th>\n",
       "      <th>RFC</th>\n",
       "      <th>RFC_add_features</th>\n",
       "      <th>diff</th>\n",
       "    </tr>\n",
       "    <tr>\n",
       "      <th>model</th>\n",
       "      <th>param</th>\n",
       "      <th></th>\n",
       "      <th></th>\n",
       "      <th></th>\n",
       "    </tr>\n",
       "  </thead>\n",
       "  <tbody>\n",
       "    <tr>\n",
       "      <th rowspan=\"14\" valign=\"top\">randomforestclassifier</th>\n",
       "      <th>max_depth_best</th>\n",
       "      <td>3</td>\n",
       "      <td>5</td>\n",
       "      <td>--</td>\n",
       "    </tr>\n",
       "    <tr>\n",
       "      <th>max_depth_grid</th>\n",
       "      <td>[3, 4, 5]</td>\n",
       "      <td>[5]</td>\n",
       "      <td>--</td>\n",
       "    </tr>\n",
       "    <tr>\n",
       "      <th>max_features_best</th>\n",
       "      <td>None</td>\n",
       "      <td>None</td>\n",
       "      <td>Same</td>\n",
       "    </tr>\n",
       "    <tr>\n",
       "      <th>max_features_grid</th>\n",
       "      <td>[None]</td>\n",
       "      <td>[None]</td>\n",
       "      <td>Same</td>\n",
       "    </tr>\n",
       "    <tr>\n",
       "      <th>min_samples_leaf_best</th>\n",
       "      <td>5</td>\n",
       "      <td>5</td>\n",
       "      <td>Same</td>\n",
       "    </tr>\n",
       "    <tr>\n",
       "      <th>min_samples_leaf_grid</th>\n",
       "      <td>[3, 5, 6]</td>\n",
       "      <td>[5]</td>\n",
       "      <td>--</td>\n",
       "    </tr>\n",
       "    <tr>\n",
       "      <th>n_estimators_best</th>\n",
       "      <td>250</td>\n",
       "      <td>200</td>\n",
       "      <td>--</td>\n",
       "    </tr>\n",
       "    <tr>\n",
       "      <th>n_estimators_grid</th>\n",
       "      <td>[200, 250, 300]</td>\n",
       "      <td>[200]</td>\n",
       "      <td>--</td>\n",
       "    </tr>\n",
       "    <tr>\n",
       "      <th>reduce_dim</th>\n",
       "      <td>NaN</td>\n",
       "      <td>NaN</td>\n",
       "      <td>Same</td>\n",
       "    </tr>\n",
       "    <tr>\n",
       "      <th>reduce_dim__n_components</th>\n",
       "      <td>2</td>\n",
       "      <td>2</td>\n",
       "      <td>Same</td>\n",
       "    </tr>\n",
       "    <tr>\n",
       "      <th>score</th>\n",
       "      <td>0.530291</td>\n",
       "      <td>0.526688</td>\n",
       "      <td>Best: RFC</td>\n",
       "    </tr>\n",
       "    <tr>\n",
       "      <th>train_length_best</th>\n",
       "      <td>265602</td>\n",
       "      <td>300462</td>\n",
       "      <td>--</td>\n",
       "    </tr>\n",
       "    <tr>\n",
       "      <th>train_length_grid</th>\n",
       "      <td>[265602, 280210, 300462]</td>\n",
       "      <td>[265602, 300462]</td>\n",
       "      <td>--</td>\n",
       "    </tr>\n",
       "    <tr>\n",
       "      <th>transformer</th>\n",
       "      <td>NaN</td>\n",
       "      <td>order_std_quantile_power_kbins_q</td>\n",
       "      <td>--</td>\n",
       "    </tr>\n",
       "  </tbody>\n",
       "</table>\n",
       "</div>"
      ],
      "text/plain": [
       "                                                                      RFC  \\\n",
       "model                  param                                                \n",
       "randomforestclassifier max_depth_best                                   3   \n",
       "                       max_depth_grid                           [3, 4, 5]   \n",
       "                       max_features_best                             None   \n",
       "                       max_features_grid                           [None]   \n",
       "                       min_samples_leaf_best                            5   \n",
       "                       min_samples_leaf_grid                    [3, 5, 6]   \n",
       "                       n_estimators_best                              250   \n",
       "                       n_estimators_grid                  [200, 250, 300]   \n",
       "                       reduce_dim                                     NaN   \n",
       "                       reduce_dim__n_components                         2   \n",
       "                       score                                     0.530291   \n",
       "                       train_length_best                           265602   \n",
       "                       train_length_grid         [265602, 280210, 300462]   \n",
       "                       transformer                                    NaN   \n",
       "\n",
       "                                                                 RFC_add_features  \\\n",
       "model                  param                                                        \n",
       "randomforestclassifier max_depth_best                                           5   \n",
       "                       max_depth_grid                                         [5]   \n",
       "                       max_features_best                                     None   \n",
       "                       max_features_grid                                   [None]   \n",
       "                       min_samples_leaf_best                                    5   \n",
       "                       min_samples_leaf_grid                                  [5]   \n",
       "                       n_estimators_best                                      200   \n",
       "                       n_estimators_grid                                    [200]   \n",
       "                       reduce_dim                                             NaN   \n",
       "                       reduce_dim__n_components                                 2   \n",
       "                       score                                             0.526688   \n",
       "                       train_length_best                                   300462   \n",
       "                       train_length_grid                         [265602, 300462]   \n",
       "                       transformer               order_std_quantile_power_kbins_q   \n",
       "\n",
       "                                                      diff  \n",
       "model                  param                                \n",
       "randomforestclassifier max_depth_best                   --  \n",
       "                       max_depth_grid                   --  \n",
       "                       max_features_best              Same  \n",
       "                       max_features_grid              Same  \n",
       "                       min_samples_leaf_best          Same  \n",
       "                       min_samples_leaf_grid            --  \n",
       "                       n_estimators_best                --  \n",
       "                       n_estimators_grid                --  \n",
       "                       reduce_dim                     Same  \n",
       "                       reduce_dim__n_components       Same  \n",
       "                       score                     Best: RFC  \n",
       "                       train_length_best                --  \n",
       "                       train_length_grid                --  \n",
       "                       transformer                      --  "
      ]
     },
     "execution_count": 94,
     "metadata": {},
     "output_type": "execute_result"
    }
   ],
   "source": [
    "results_file_rf= os.path.join(pkl_dir,'prediction_results_rf.pkl' )#'selected_model.pkl'\n",
    "grid_search_results_rf = pickle.load(open(results_file_rf, 'rb'))\n",
    "comparation_table = create_comparation_table([grid_search_results_rf, grid_search_results_rf2],\n",
    "                          ['RFC', 'RFC_add_features'],\n",
    "                          ['randomforestclassifier',], \n",
    "                          ['score', 'transformer', 'reduce_dim', 'reduce_dim__n_components'])\n",
    "comparation_table#[comparation_table['diff'] != 'Same']"
   ]
  },
  {
   "cell_type": "code",
   "execution_count": 95,
   "metadata": {},
   "outputs": [
    {
     "name": "stdout",
     "output_type": "stream",
     "text": [
      "****Splitwise mean of \u001b[1;36mroc_auc\u001b[0m scores for each train_length and the best value for the other parametrs****\n",
      "\n",
      "Best parameters: \u001b[1;36mrandomforestclassifier\u001b[0m: 300462\n",
      "\n",
      "========================================================================================================\n",
      "Model name randomfore          \n",
      "                train      test\n",
      "265602       0.523440  0.526445\n",
      "300462       0.523147  0.526688\n"
     ]
    }
   ],
   "source": [
    "train_length_comparation, best_train_length = create_tables_of_scores_by_param(grid_search_results_rf2, par_names='train_length', key='scores_by_train_length')\n",
    "print_scores_by_param(train_length_comparation, best_train_length, 'train_length', model_names_prune=10)"
   ]
  },
  {
   "cell_type": "code",
   "execution_count": 96,
   "metadata": {},
   "outputs": [
    {
     "name": "stdout",
     "output_type": "stream",
     "text": [
      "****Splitwise mean of \u001b[1;36mroc_auc\u001b[0m scores for each dimention reducer and the best value for the other parametrs****\n",
      "\n",
      "Best parameters: \u001b[1;36mrandomforestclassifier\u001b[0m: 2\n",
      "\n",
      "========================================================================================================\n",
      "Model name randomfore          \n",
      "                train      test\n",
      "2            0.523147  0.526688\n",
      "4            0.525789  0.520278\n",
      "6            0.531557  0.515034\n",
      "8            0.532440  0.517025\n",
      "None         0.542177  0.511661\n"
     ]
    }
   ],
   "source": [
    "reducer_comparation, best_reducer = create_tables_of_scores_by_param(grid_search_results_rf2, par_names='reduce_dim__n_components', key='scores_by_dim_reducers')\n",
    "print_scores_by_param(reducer_comparation, best_reducer, 'dimention reducer', model_names_prune=10)"
   ]
  },
  {
   "cell_type": "code",
   "execution_count": 97,
   "metadata": {},
   "outputs": [
    {
     "name": "stdout",
     "output_type": "stream",
     "text": [
      "****Splitwise mean of \u001b[1;36mroc_auc\u001b[0m scores for each transformer and the best value for the other parametrs****\n",
      "\n",
      "Best parameters: \u001b[1;36mrandomforestclassifier\u001b[0m: order_std_quantile_power_kbins_q\n",
      "\n",
      "========================================================================================================\n",
      "Model name                        randomfore          \n",
      "                                       train      test\n",
      "binary_std_quantile_power_kbins_q   0.523991  0.522975\n",
      "order_std_quantile_power_kbins_q    0.523147  0.526688\n"
     ]
    }
   ],
   "source": [
    "transformer_comparation, best_transformer = create_tables_of_scores_by_param(grid_search_results_rf2, par_names='transformer', key='scores_by_transformer')\n",
    "print_scores_by_param(transformer_comparation, best_transformer, 'transformer', model_names_prune=10)"
   ]
  },
  {
   "cell_type": "code",
   "execution_count": 98,
   "metadata": {},
   "outputs": [
    {
     "name": "stdout",
     "output_type": "stream",
     "text": [
      "plot of ROC_AUC scores are saved into  \u001b[1;36m../results/roc_auc_rf_addition_features.pdf\u001b[0m\n"
     ]
    }
   ],
   "source": [
    "rocauc_by_splits_rf2_file = os.path.join(results_dir,'roc_auc_rf_addition_features.pdf')\n",
    "# plot by splits\n",
    "snsplot_split = lineplot(concatenate_estimators_scores(grid_search_results_rf2), x='split',  y='roc_auc',style='set',title='Compare ROC_AUC of the best models', figsize=(11, 4)) \n",
    "\n",
    "#plot by transformer\n",
    "by='transformer'\n",
    "df_to_plot = transformer_comparation.reset_index(names=by)\n",
    "snsplot_transformer = plot_validation_by(df_to_plot, by=by) \n",
    "#plot by min_samples_leaf\n",
    "by='reduce_dim__n_components'\n",
    "df_to_plot = reducer_comparation.reset_index(names=by)\n",
    "df_to_plot[by]= df_to_plot['reduce_dim__n_components'].astype(str).str.split(' ').str[-1]\n",
    "snsplot_reducer_comparation = plot_validation_by(df_to_plot, by=by) \n",
    "#plot by train_length\n",
    "by='train_length'\n",
    "df_to_plot = train_length_comparation.reset_index(names=by)\n",
    "snsplot_train_length = plot_validation_by(df_to_plot, by=by) \n",
    "with PdfPages(rocauc_by_splits_rf2_file) as pdf:\n",
    "    snsplot_split.figure.savefig(pdf, format='pdf')\n",
    "    snsplot_transformer.figure.savefig(pdf, format='pdf')\n",
    "    snsplot_reducer_comparation.figure.savefig(pdf, format='pdf')\n",
    "    snsplot_train_length.figure.savefig(pdf, format='pdf')\n",
    "print('plot of ROC_AUC scores are saved into ', output_formatting(rocauc_by_splits_rf2_file, format))"
   ]
  },
  {
   "cell_type": "code",
   "execution_count": 13,
   "metadata": {},
   "outputs": [
    {
     "data": {
      "image/png": "[encoded data removed]",
      "text/plain": [
       "<Figure size 640x480 with 1 Axes>"
      ]
     },
     "metadata": {},
     "output_type": "display_data"
    }
   ],
   "source": [
    "import seaborn as sns\n",
    "import matplotlib.pyplot as plt\n",
    "\n",
    "# Приклад даних\n",
    "tips = sns.load_dataset(\"tips\")\n",
    "\n",
    "# Звичайний графік\n",
    "sns.lineplot(x=\"total_bill\", y=\"tip\", data=tips)\n",
    "\n",
    "# Поміняні осі\n",
    "\n",
    "plt.show()"
   ]
  },
  {
   "cell_type": "code",
   "execution_count": 14,
   "metadata": {},
   "outputs": [
    {
     "data": {
      "text/plain": [
       "<Axes: xlabel='tip', ylabel='total_bill'>"
      ]
     },
     "execution_count": 14,
     "metadata": {},
     "output_type": "execute_result"
    },
    {
     "data": {
      "image/png": "[encoded data removed]",
      "text/plain": [
       "<Figure size 640x480 with 1 Axes>"
      ]
     },
     "metadata": {},
     "output_type": "display_data"
    }
   ],
   "source": [
    "sns.lineplot(x=\"tip\", y=\"total_bill\", data=tips)\n"
   ]
  },
  {
   "cell_type": "code",
   "execution_count": 16,
   "metadata": {},
   "outputs": [
    {
     "data": {
      "text/plain": [
       "<Axes: xlabel='tip', ylabel='total_bill'>"
      ]
     },
     "execution_count": 16,
     "metadata": {},
     "output_type": "execute_result"
    },
    {
     "data": {
      "image/png": "[encoded data removed]",
      "text/plain": [
       "<Figure size 640x480 with 1 Axes>"
      ]
     },
     "metadata": {},
     "output_type": "display_data"
    }
   ],
   "source": [
    "sns.lineplot(y=\"total_bill\", x=\"tip\", data=tips, orient='y')\n"
   ]
  },
  {
   "cell_type": "code",
   "execution_count": null,
   "metadata": {},
   "outputs": [],
   "source": []
  }
 ],
 "metadata": {
  "kernelspec": {
   "display_name": ".venv",
   "language": "python",
   "name": "python3"
  },
  "language_info": {
   "codemirror_mode": {
    "name": "ipython",
    "version": 3
   },
   "file_extension": ".py",
   "mimetype": "text/x-python",
   "name": "python",
   "nbconvert_exporter": "python",
   "pygments_lexer": "ipython3",
   "version": "3.12.3"
  }
 },
 "nbformat": 4,
 "nbformat_minor": 2
}
